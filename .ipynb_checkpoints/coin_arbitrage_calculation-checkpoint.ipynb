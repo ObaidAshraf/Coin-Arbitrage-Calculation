{
 "cells": [
  {
   "cell_type": "code",
   "execution_count": 2,
   "metadata": {
    "collapsed": true
   },
   "outputs": [],
   "source": [
    "import numpy as np\n",
    "import matplotlib.pyplot as plt\n",
    "import requests, json"
   ]
  },
  {
   "cell_type": "code",
   "execution_count": 3,
   "metadata": {
    "collapsed": true
   },
   "outputs": [],
   "source": [
    "def calc_arbitrage(coin=\"btc\", market_val=\"usd\"):\n",
    "\n",
    "    try:\n",
    "        mkt_data = requests.get(\"https://api.cryptonator.com/api/full/{}-{}\".format(coin.lower(), market_val.lower())).json()[\"ticker\"][\"markets\"]\n",
    "    except:\n",
    "        print(\"Error. Try again!!\")\n",
    "        coin = input(\"Enter coin: \")\n",
    "        currency = input(\"Enter currency: \")\n",
    "        calc_arbitrage(coin, currency)\n",
    "    mkt_data_arr = np.array([])\n",
    "    for i in range(0, len(mkt_data)):\n",
    "        mkt_data_arr = np.append(mkt_data_arr, np.array([mkt_data[i][\"market\"], mkt_data[i][\"price\"], mkt_data[i][\"volume\"]]))\n",
    "\n",
    "    mkt_data_arr = mkt_data_arr.reshape(len(mkt_data), 3)\n",
    "    market = mkt_data_arr[:, 0]\n",
    "    prices = np.array([mkt_data_arr[:, 1]], dtype=\"float64\")\n",
    "    volumes = np.array([mkt_data_arr[:, 2]], dtype=\"float64\")\n",
    "\n",
    "    plt.scatter(prices, volumes)\n",
    "    for mkt, price, vol in zip(market, prices.flatten(), volumes.flatten()):\n",
    "        plt.annotate(mkt,\n",
    "                     xy=(price, vol),\n",
    "                     xytext=(5, -5),\n",
    "                     textcoords='offset points', fontsize=10\n",
    "                     )\n",
    "\n",
    "\n",
    "    plt.title(\"{} - {}\" .format(coin.upper(), market_val.upper()))\n",
    "    plt.xlabel(\"Price\")\n",
    "    plt.ylabel(\"Volume\")\n",
    "\n",
    "    maxPrice = np.max(prices)\n",
    "    maxPrice_market = market[np.argmax(prices)]\n",
    "    minPrice = np.min(prices)\n",
    "    minPrice_market = market[np.argmin(prices)]\n",
    "\n",
    "    diff = maxPrice - minPrice\n",
    "\n",
    "    print(\"The coin '{}' has highest price of '{}' for '{}' currency\". format(coin.upper(), maxPrice, maxPrice_market.upper()))\n",
    "    print(\"The coin '{}' has lowest price of '{}' for '{}' currency\". format(coin.upper(), minPrice, minPrice_market.upper()))\n",
    "    print(\"The difference is : {}\" .format(diff))\n",
    "\n",
    "    plt.show()\n"
   ]
  },
  {
   "cell_type": "code",
   "execution_count": 4,
   "metadata": {},
   "outputs": [
    {
     "name": "stdout",
     "output_type": "stream",
     "text": [
      "Enter coin: btc\n",
      "Enter currency: usd\n",
      "The coin 'BTC' has highest price of '9489.0' for 'C-CEX' currency\n",
      "The coin 'BTC' has lowest price of '8798.4' for 'BITFINEX' currency\n",
      "The difference is : 690.6000000000004\n"
     ]
    },
    {
     "data": {
      "image/png": "[encoded data removed]",
      "text/plain": [
       "<matplotlib.figure.Figure at 0x2f5c990>"
      ]
     },
     "metadata": {},
     "output_type": "display_data"
    }
   ],
   "source": [
    "coin = input(\"Enter coin: \")\n",
    "currency = input(\"Enter currency: \")\n",
    "calc_arbitrage(coin, currency)"
   ]
  },
  {
   "cell_type": "code",
   "execution_count": null,
   "metadata": {
    "collapsed": true
   },
   "outputs": [],
   "source": []
  }
 ],
 "metadata": {
  "kernelspec": {
   "display_name": "Python 3",
   "language": "python",
   "name": "python3"
  },
  "language_info": {
   "codemirror_mode": {
    "name": "ipython",
    "version": 3
   },
   "file_extension": ".py",
   "mimetype": "text/x-python",
   "name": "python",
   "nbconvert_exporter": "python",
   "pygments_lexer": "ipython3",
   "version": "3.6.1"
  }
 },
 "nbformat": 4,
 "nbformat_minor": 1
}
