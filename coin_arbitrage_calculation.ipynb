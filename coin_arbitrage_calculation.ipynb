{
 "cells": [
  {
   "cell_type": "code",
   "execution_count": null,
   "metadata": {
    "collapsed": true
   },
   "outputs": [],
   "source": [
    "import numpy as np\n",
    "import matplotlib.pyplot as plt\n",
    "import requests, json"
   ]
  },
  {
   "cell_type": "code",
   "execution_count": null,
   "metadata": {},
   "outputs": [],
   "source": [
    "def calc_arbitrage(coin=\"btc\", market_val=\"usd\"):\n",
    "\n",
    "    try:\n",
    "        mkt_data = requests.get(\"https://api.cryptonator.com/api/full/{}-{}\".format(coin.lower(), market_val.lower())).json()[\"ticker\"][\"markets\"]\n",
    "    except:\n",
    "        print(\"Error. Try again!!\")\n",
    "        coin = input(\"Enter coin: \")\n",
    "        currency = input(\"Enter currency: \")\n",
    "        calc_arbitrage(coin, currency)\n",
    "    mkt_data_arr = np.array([])\n",
    "    for i in range(0, len(mkt_data)):\n",
    "        mkt_data_arr = np.append(mkt_data_arr, np.array([mkt_data[i][\"market\"], mkt_data[i][\"price\"], mkt_data[i][\"volume\"]]))\n",
    "\n",
    "    mkt_data_arr = mkt_data_arr.reshape(len(mkt_data), 3)\n",
    "    market = mkt_data_arr[:, 0]\n",
    "    prices = np.array([mkt_data_arr[:, 1]], dtype=\"float64\")\n",
    "    volumes = np.array([mkt_data_arr[:, 2]], dtype=\"float64\")\n",
    "\n",
    "    plt.scatter(prices, volumes)\n",
    "    for mkt, price, vol in zip(market, prices.flatten(), volumes.flatten()):\n",
    "        plt.annotate(mkt,\n",
    "                     xy=(price, vol),\n",
    "                     xytext=(5, -5),\n",
    "                     textcoords='offset points', fontsize=10\n",
    "                     )\n",
    "\n",
    "\n",
    "    plt.title(\"{} - {}\" .format(coin.upper(), market_val.upper()))\n",
    "    plt.xlabel(\"Price\")\n",
    "    plt.ylabel(\"Volume\")\n",
    "\n",
    "    maxPrice = np.max(prices)\n",
    "    maxPrice_market = market[np.argmax(prices)]\n",
    "    minPrice = np.min(prices)\n",
    "    minPrice_market = market[np.argmin(prices)]\n",
    "\n",
    "    diff = maxPrice - minPrice\n",
    "\n",
    "    print(\"The coin '{}' has highest price of '{}' for '{}' currency\". format(coin.upper(), maxPrice, maxPrice_market.upper()))\n",
    "    print(\"The coin '{}' has lowest price of '{}' for '{}' currency\". format(coin.upper(), minPrice, minPrice_market.upper()))\n",
    "    print(\"The difference is : {}\" .format(diff))\n",
    "\n",
    "    plt.show()\n"
   ]
  },
  {
   "cell_type": "code",
   "execution_count": null,
   "metadata": {},
   "outputs": [],
   "source": [
    "coin = input(\"Enter coin: \")\n",
    "currency = input(\"Enter currency: \")\n",
    "calc_arbitrage(coin, currency)"
   ]
  }
 ],
 "metadata": {
  "kernelspec": {
   "display_name": "Python 2",
   "language": "python",
   "name": "python2"
  },
  "language_info": {
   "codemirror_mode": {
    "name": "ipython",
    "version": 2
   },
   "file_extension": ".py",
   "mimetype": "text/x-python",
   "name": "python",
   "nbconvert_exporter": "python",
   "pygments_lexer": "ipython2",
   "version": "2.7.6"
  }
 },
 "nbformat": 4,
 "nbformat_minor": 0
}
